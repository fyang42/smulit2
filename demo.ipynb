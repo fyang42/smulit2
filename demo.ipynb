{
 "cells": [
  {
   "cell_type": "markdown",
   "metadata": {},
   "source": [
    "# Contract Generation demo"
   ]
  },
  {
   "cell_type": "markdown",
   "metadata": {},
   "source": [
    "This notebook showcases the use of predefined templates to generate smart contracts"
   ]
  },
  {
   "cell_type": "markdown",
   "metadata": {},
   "source": [
    "# Imports:"
   ]
  },
  {
   "cell_type": "markdown",
   "metadata": {},
   "source": [
    "We first import the necessary classes from the various modules. The classes are used to generate smart contracts, describe finite state machines, and analyze vulnerabilities in smart contracts"
   ]
  },
  {
   "cell_type": "code",
   "execution_count": 1,
   "metadata": {},
   "outputs": [],
   "source": [
    "from prompts.automata import AutomataTemplate\n",
    "from prompts.smart_contract import SmartContractTemplate\n",
    "from prompts.vuln import VulnerabilityTemplate"
   ]
  },
  {
   "cell_type": "markdown",
   "metadata": {},
   "source": [
    "# Automata template"
   ]
  },
  {
   "cell_type": "markdown",
   "metadata": {},
   "source": [
    "We first use the 'AutomataTemplate' class to generate a description of a finite state machine that could be used in a smart contract. FSMs are important in defining states and transitions in a contract, which allows it to be more secure and predictable."
   ]
  },
  {
   "cell_type": "code",
   "execution_count": 2,
   "metadata": {},
   "outputs": [
    {
     "name": "stdout",
     "output_type": "stream",
     "text": [
      "FSM Description:\n",
      " \n",
      "        Describe how a Finite State Machine (FSM) can be implemented in a smart contract.\n",
      "        Include the following:\n",
      "        1. State definitions using enums.\n",
      "        2. Transition functions between states.\n",
      "        3. Guards and actions associated with each transition.\n",
      "\n",
      "        Additional details to include: \"Additional logic for state transition\"\n",
      "        \n"
     ]
    }
   ],
   "source": [
    "automata_prompt = AutomataTemplate()\n",
    "fsm_description = automata_prompt.format(fsm_details=\"Additional logic for state transition\")\n",
    "print(\"FSM Description:\\n\", fsm_description)\n"
   ]
  },
  {
   "cell_type": "markdown",
   "metadata": {},
   "source": [
    "# Smart Contract Template"
   ]
  },
  {
   "cell_type": "markdown",
   "metadata": {},
   "source": [
    "Next, we showcase the generation of smart contracts using the 'SmartContractTemplate' class. This includes predefined instructions to generate a contract with security features, Ether deposits, etc"
   ]
  },
  {
   "cell_type": "code",
   "execution_count": 3,
   "metadata": {},
   "outputs": [
    {
     "name": "stdout",
     "output_type": "stream",
     "text": [
      "\n",
      "Generated Smart Contract:\n",
      " \n",
      "        Generate a Solidity smart contract with the following features:\n",
      "        1. Functions to start the auction, place bids, and end the auction.\n",
      "        2. Security features to prevent unauthorized access and replay attacks.\n",
      "        3. Proper handling of Ether deposits and withdrawals.\n",
      "        \n"
     ]
    }
   ],
   "source": [
    "smart_contract_prompt = SmartContractTemplate()\n",
    "generated_code = smart_contract_prompt()\n",
    "print(\"\\nGenerated Smart Contract:\\n\", generated_code)"
   ]
  },
  {
   "cell_type": "markdown",
   "metadata": {},
   "source": [
    "# Vulnerability Analysis Template"
   ]
  },
  {
   "cell_type": "markdown",
   "metadata": {},
   "source": [
    "Now, we use the 'VulnerabilityTemplate' to analyze a given smart contract for potential security issues. This allows us to identify issues in the contract code that might be exploited by bad actors."
   ]
  },
  {
   "cell_type": "code",
   "execution_count": 4,
   "metadata": {},
   "outputs": [
    {
     "name": "stdout",
     "output_type": "stream",
     "text": [
      "\n",
      "Vulnerability Analysis:\n",
      " \n",
      "            Analyze the following smart contract for security vulnerabilities:\n",
      "            \n",
      "contract DemoContract {\n",
      "    uint256 public value;\n",
      "    function setValue(uint256 newValue) public {\n",
      "        value = newValue;\n",
      "    }\n",
      "}\n",
      "\n",
      "\n",
      "            Provide a detailed analysis and recommendations for improvement.\n",
      "            \n"
     ]
    }
   ],
   "source": [
    "vulnerability_prompt = VulnerabilityTemplate()\n",
    "contract_code = \"\"\"\n",
    "contract DemoContract {\n",
    "    uint256 public value;\n",
    "    function setValue(uint256 newValue) public {\n",
    "        value = newValue;\n",
    "    }\n",
    "}\n",
    "\"\"\"\n",
    "vulnerability_analysis = vulnerability_prompt(contract_code=contract_code)\n",
    "print(\"\\nVulnerability Analysis:\\n\", vulnerability_analysis)"
   ]
  },
  {
   "cell_type": "markdown",
   "metadata": {},
   "source": [
    "# Putting them all together"
   ]
  },
  {
   "cell_type": "markdown",
   "metadata": {},
   "source": [
    "The following block runs the 'demo()' function that executes the above sections."
   ]
  },
  {
   "cell_type": "code",
   "execution_count": 5,
   "metadata": {},
   "outputs": [
    {
     "name": "stdout",
     "output_type": "stream",
     "text": [
      "FSM Description:\n",
      " \n",
      "        Describe how a Finite State Machine (FSM) can be implemented in a smart contract.\n",
      "        Include the following:\n",
      "        1. State definitions using enums.\n",
      "        2. Transition functions between states.\n",
      "        3. Guards and actions associated with each transition.\n",
      "\n",
      "        Additional details to include: \"Additional logic for state transition\"\n",
      "        \n",
      "\n",
      "Generated Smart Contract:\n",
      " \n",
      "        Generate a Solidity smart contract with the following features:\n",
      "        1. Functions to start the auction, place bids, and end the auction.\n",
      "        2. Security features to prevent unauthorized access and replay attacks.\n",
      "        3. Proper handling of Ether deposits and withdrawals.\n",
      "        \n",
      "\n",
      "Vulnerability Analysis:\n",
      " \n",
      "            Analyze the following smart contract for security vulnerabilities:\n",
      "            \n",
      "    contract DemoContract {\n",
      "        uint256 public value;\n",
      "        function setValue(uint256 newValue) public {\n",
      "            value = newValue;\n",
      "        }\n",
      "    }\n",
      "    \n",
      "\n",
      "            Provide a detailed analysis and recommendations for improvement.\n",
      "            \n"
     ]
    }
   ],
   "source": [
    "def demo():\n",
    "    # Automata Template Demo\n",
    "    automata_prompt = AutomataTemplate()\n",
    "    fsm_description = automata_prompt.format(fsm_details=\"Additional logic for state transition\")\n",
    "    print(\"FSM Description:\\n\", fsm_description)\n",
    "    \n",
    "    # Smart Contract Template Demo\n",
    "    smart_contract_prompt = SmartContractTemplate()\n",
    "    generated_code = smart_contract_prompt()\n",
    "    print(\"\\nGenerated Smart Contract:\\n\", generated_code)\n",
    "    \n",
    "    # Vulnerability Template Demo\n",
    "    vulnerability_prompt = VulnerabilityTemplate()\n",
    "    contract_code = \"\"\"\n",
    "    contract DemoContract {\n",
    "        uint256 public value;\n",
    "        function setValue(uint256 newValue) public {\n",
    "            value = newValue;\n",
    "        }\n",
    "    }\n",
    "    \"\"\"\n",
    "    vulnerability_analysis = vulnerability_prompt(contract_code=contract_code)\n",
    "    print(\"\\nVulnerability Analysis:\\n\", vulnerability_analysis)\n",
    "\n",
    "if __name__ == \"__main__\":\n",
    "    demo()"
   ]
  },
  {
   "cell_type": "markdown",
   "metadata": {},
   "source": [
    "# Conclusion"
   ]
  },
  {
   "cell_type": "markdown",
   "metadata": {},
   "source": [
    "By leveraging these templates, users can streamline the creation and security analysis of smart contracts."
   ]
  }
 ],
 "metadata": {
  "kernelspec": {
   "display_name": "Python 3",
   "language": "python",
   "name": "python3"
  },
  "language_info": {
   "codemirror_mode": {
    "name": "ipython",
    "version": 3
   },
   "file_extension": ".py",
   "mimetype": "text/x-python",
   "name": "python",
   "nbconvert_exporter": "python",
   "pygments_lexer": "ipython3",
   "version": "3.12.3"
  }
 },
 "nbformat": 4,
 "nbformat_minor": 2
}
